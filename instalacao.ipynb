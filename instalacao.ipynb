{
 "cells": [
  {
   "cell_type": "code",
   "execution_count": null,
   "metadata": {},
   "outputs": [],
   "source": [
    "pip3 install cmake==3.25.0\n",
    "pip3 install opencv-python==4.5.3.56\n",
    "pip3 install dm-tree==0.1.8\n",
    "pip3 --no-cache-dir install -r requirements.txt\n",
    "pip3 install federated-learning-lib/federated_learning_lib-*-py3-none-any.whl"
   ]
  }
 ],
 "metadata": {
  "language_info": {
   "name": "python"
  },
  "orig_nbformat": 4
 },
 "nbformat": 4,
 "nbformat_minor": 2
}
