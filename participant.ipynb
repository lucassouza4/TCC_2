{
 "cells": [
  {
   "cell_type": "code",
   "execution_count": null,
   "id": "468f72ba",
   "metadata": {},
   "outputs": [],
   "source": [
    "party_id = 0\n",
    "\n",
    "num_partes = 1  ## number of participating parties\n",
    "nomeParte = 'pneumoniamnist_0.npz'\n",
    "dataset = 'pneumoniamnist'\n",
    "handlerName = 'PneumoniaMedmnistDataHandler'\n",
    "handler ='pneumoniaHandler.py'"
   ]
  },
  {
   "attachments": {
    "image.png": {
     "image/png": "[encoded data removed]"
    }
   },
   "cell_type": "markdown",
   "id": "70a0f852",
   "metadata": {},
   "source": [
    "# Gerando a base de dados para os modelos existentes na ferramenta\n",
    "\n",
    "Para executar o aprendizado federado da IBM, você deve ter arquivos de configuração para o agregador e para cada parte.\n",
    "\n",
    "A ferramenta da **IBM** possui alguns datasets já configurados a título de exemplificação. Para todos esses exemplos, existe um arquivo **generate_data.py** para que possamos particionar a base de dados a partir dos seguintes sinalizadores: \n",
    "\n",
    "![image.png](attachment:image.png)"
   ]
  },
  {
   "cell_type": "code",
   "execution_count": null,
   "id": "ff2aa006",
   "metadata": {},
   "outputs": [],
   "source": [
    "%run examples/generate_data.py -n $num_parties -d $dataset -pp 200"
   ]
  },
  {
   "cell_type": "code",
   "execution_count": null,
   "id": "adf9654a",
   "metadata": {},
   "outputs": [],
   "source": [
    "import numpy as np\n",
    "\n",
    "class DivisorArquivoNpz:\n",
    "    def __init__(self, nome_arquivo, num_partes):\n",
    "        self.nome_arquivo = nome_arquivo\n",
    "        self.num_partes = num_partes\n",
    "\n",
    "    def dividir(self):\n",
    "        # Carregue o arquivo npz\n",
    "        data = np.load(f'{self.nome_arquivo}.npz')\n",
    "\n",
    "        # Divida os dados do arquivo em partes iguais\n",
    "        partes = {}\n",
    "        for chave, valor in data.items():\n",
    "            partes[chave] = np.array_split(valor, self.num_partes)\n",
    "\n",
    "        # Salve cada parte em um novo arquivo npz\n",
    "        for i in range(self.num_partes):\n",
    "            nome_arquivo = f'{self.nome_arquivo}_{i}.npz'\n",
    "            np.savez(nome_arquivo, **{chave: valor[i] for chave, valor in partes.items()})"
   ]
  },
  {
   "cell_type": "code",
   "execution_count": null,
   "id": "ddbc0643",
   "metadata": {},
   "outputs": [],
   "source": [
    "divisor = DivisorArquivoNpz(dataset, 2)\n",
    "divisor.dividir()"
   ]
  },
  {
   "cell_type": "code",
   "execution_count": null,
   "id": "73385dd1",
   "metadata": {},
   "outputs": [],
   "source": [
    "import numpy as np\n",
    "\n",
    "# carregar o arquivo npz\n",
    "data = np.load('./pneumoniamnist.npz')\n",
    "\n",
    "# obter os arrays de dados e etiquetas\n",
    "x_train = data['train_images'] # array com os dados\n",
    "y_train = data['train_labels'] # array com as etiquetas\n",
    "\n",
    "x_test = data['test_images'] # array com os dados\n",
    "y_test = data['test_labels'] # array com as etiquetas\n",
    "\n",
    "x_val = data['val_images'] # array com os dados\n",
    "y_val = data['val_labels'] # array com as etiquetas\n",
    "\n",
    "# obter as classes únicas\n",
    "classes_train = np.unique(y_train)\n",
    "classes_test = np.unique(y_test)\n",
    "classes_val = np.unique(y_val)\n",
    "\n",
    "# percorrer as classes\n",
    "for classe in classes_train:\n",
    "\n",
    "    idx_classe_train = np.where(y_train == classe)[0]\n",
    "    dados_classe_train = x_train[idx_classe_train]\n",
    "    etiquetas_classe_train = y_train[idx_classe_train]\n",
    "\n",
    "    idx_classe_test = np.where(y_test == classe)[0]\n",
    "    dados_classe_test = x_test[idx_classe_test]\n",
    "    etiquetas_classe_test = y_test[idx_classe_test]\n",
    "\n",
    "    idx_classe_val = np.where(y_val == classe)[0]\n",
    "    dados_classe_val = x_val[idx_classe_val]\n",
    "    etiquetas_classe_val = y_val[idx_classe_val]\n",
    "    \n",
    "    np.savez(f'dados_{classe}.npz', \n",
    "         train_images=dados_classe_train, train_labels=etiquetas_classe_train,\n",
    "         test_images=dados_classe_test, test_labels=etiquetas_classe_test,\n",
    "         val_images=dados_classe_val, val_labels=etiquetas_classe_val)"
   ]
  },
  {
   "cell_type": "code",
   "execution_count": null,
   "id": "ce2e619a",
   "metadata": {},
   "outputs": [],
   "source": [
    "divisor = DivisorArquivoNpz('dados_0', 2)\n",
    "divisor.dividir()\n",
    "\n",
    "divisor = DivisorArquivoNpz('dados_1', 2)\n",
    "divisor.dividir()"
   ]
  },
  {
   "cell_type": "code",
   "execution_count": null,
   "id": "d2f0292e",
   "metadata": {},
   "outputs": [],
   "source": [
    "arquivo = open(handler, \"w\")\n",
    "arquivo.write(\"\"\"\n",
    "import logging\n",
    "\n",
    "import numpy as np\n",
    "import tensorflow as tf\n",
    "\n",
    "from ibmfl.data.data_handler import DataHandler\n",
    "logger = logging.getLogger(__name__)\n",
    "\n",
    "class PneumoniaMedmnistDataHandler(DataHandler):\n",
    "\n",
    "    def __init__(self, data_config=None, channels_first=False):\n",
    "        super().__init__()\n",
    "\n",
    "        self.file_name = None\n",
    "        if data_config is not None:\n",
    "            if 'npz_file' in data_config:\n",
    "                self.file_name = data_config['npz_file']\n",
    "        self.channels_first = channels_first\n",
    "\n",
    "        # load the datasets\n",
    "        (self.x_train, self.y_train), (self.x_test, self.y_test) = self.load_dataset()\n",
    "        # pre-process the datasets\n",
    "        self.preprocess()\n",
    "    \n",
    "    def load_dataset(self, nb_points=500):\n",
    " \n",
    "        # if self.file_name is None:\n",
    "        #     (x_train, y_train), (x_test, y_test) = load_mnist()\n",
    "        #     # Reduce datapoints to make test faster\n",
    "        #     x_train = x_train[:nb_points]\n",
    "        #     y_train = y_train[:nb_points]\n",
    "        #     x_test = x_test[:nb_points]\n",
    "        #     y_test = y_test[:nb_points]\n",
    "        # else:\n",
    "        try:\n",
    "            logger.info('Loaded training data from ' + str(self.file_name))\n",
    "            data_train = np.load(self.file_name)\n",
    "            x_train = data_train['train_images']\n",
    "            y_train = data_train['train_labels']\n",
    "            x_test = data_train['test_images']\n",
    "            y_test = data_train['test_labels']\n",
    "        except Exception:\n",
    "            raise IOError('Unable to load training data from path '\n",
    "                            'provided in config file: ' +\n",
    "                            self.file_name)\n",
    "        return (x_train, y_train), (x_test, y_test)\n",
    "\n",
    "    def get_data(self):\n",
    "    \n",
    "        return ((self.x_train, self.y_train), (self.x_test, self.y_test))\n",
    "\n",
    "    def preprocess(self):\n",
    "\n",
    "        num_classes = 10\n",
    "        img_rows, img_cols = 28, 28\n",
    "\n",
    "        if self.channels_first:\n",
    "            self.x_train = self.x_train.reshape(self.x_train.shape[0], 1, img_rows, img_cols)\n",
    "            self.x_test = self.x_test.reshape(self.x_test.shape[0], 1, img_rows, img_cols)\n",
    "        else:\n",
    "            self.x_train = self.x_train.reshape(self.x_train.shape[0], img_rows, img_cols, 1)\n",
    "            self.x_test = self.x_test.reshape(self.x_test.shape[0], img_rows, img_cols, 1)\n",
    "            \n",
    "        self.y_train = np.eye(num_classes)[self.y_train]\n",
    "        self.y_test = np.eye(num_classes)[self.y_test]\n",
    "        self.y_train = self.y_train.reshape((-1,num_classes))\n",
    "        self.y_test = self.y_test.reshape((-1,num_classes))\n",
    "\"\"\")\n",
    "\n",
    "arquivo.close()"
   ]
  },
  {
   "attachments": {},
   "cell_type": "markdown",
   "id": "851083a0",
   "metadata": {},
   "source": [
    "# Definição do aggregator\n",
    "\n",
    "O agregador carrega consigo as informações de conexão referentes a máquina de execução. Além disso, seu arquivo de configuração possui informações sobre o algoritmo de **fusão**, **hiper parâmetros do treinamento** e o **protocolo**.\n",
    "\n",
    "* **Connection:** Possui informações como **IP** e **porta** da máquina agregadora além do tipo da conexão, que no exemplo a seguir foi utilizado **Flask**.\n",
    "\n",
    "* **Data:** Possui informações sobre os dados a serem trabalhados, como por exemplo, o caminho do arquivo **.npz** da base de dados e o **Handler** específico para a leitura dessas informações.\n",
    "\n",
    "* **Fusion:** Este campo especifica quais dos métodos de fusão será utilizado. Pox exemplo, **Iterative Average**, **FedAvg**, **Gradient Average**, entre outros.\n",
    "\n",
    "* **Hiper parâmetros:** Existem dois tipos de Hiper parâmetros. Globais e locais, no global é definido o tempo máximo de conexão, a quantidade de participantes do treinamento, quorum mínimo de participantes para que um treinamento se inicie, quantidade de épocas globais e acurácia nínima para  que o treinamento seja interrompido. Já os hiper parâmetros locais definem a quantidade de épocas locais e o valor do otimizador."
   ]
  },
  {
   "cell_type": "code",
   "execution_count": null,
   "id": "c52db9ba",
   "metadata": {},
   "outputs": [],
   "source": [
    "def get_party_config(party_id):\n",
    "    party_config = {\n",
    "        'aggregator':\n",
    "            {\n",
    "                'ip': '168.138.156.126',\n",
    "                'port': 5000\n",
    "            },\n",
    "        'connection': {\n",
    "            'info': {\n",
    "                'ip': '0.0.0.0',\n",
    "                'port': 5000,\n",
    "                'id': 'party' + str(party_id),\n",
    "                'tls_config': {\n",
    "                    'enable': False\n",
    "                }\n",
    "            },\n",
    "            'name': 'FlaskConnection',\n",
    "            'path': 'ibmfl.connection.flask_connection',\n",
    "            'sync': False\n",
    "        },\n",
    "        'data': {\n",
    "            'info': {\n",
    "                'npz_file': str(nomeParte)\n",
    "            },\n",
    "            'name': handlerName,\n",
    "            'path': handler\n",
    "        },\n",
    "        'local_training': {\n",
    "            'name': 'LocalTrainingHandler',\n",
    "            'path': 'ibmfl.party.training.local_training_handler'\n",
    "        },\n",
    "        'model': {\n",
    "            'name': 'KerasFLModel',\n",
    "            'path': 'ibmfl.model.keras_fl_model',\n",
    "            'spec': {\n",
    "                'model_definition': 'examples/configs/keras_classifier/compiled_keras.h5',\n",
    "                'model_name': 'keras-cnn'\n",
    "            }\n",
    "        },\n",
    "        'protocol_handler': {\n",
    "            'name': 'PartyProtocolHandler',\n",
    "            'path': 'ibmfl.party.party_protocol_handler'\n",
    "        }\n",
    "    }\n",
    "    return party_config"
   ]
  },
  {
   "attachments": {
    "image.png": {
     "image/png": "[encoded data removed]"
    }
   },
   "cell_type": "markdown",
   "id": "48973866",
   "metadata": {},
   "source": [
    "# Iniciando o Participante\n",
    "\n",
    "Para iniciar um novo agregador é preciso instânciar uma **Party** passando as configurações geradas acima. Logo após, o participante será iniciado e inscrito no agregador fornecido. Existem alguns comandos pré-configurados na própria biblioteca para realização do treinamento:\n",
    "\n",
    "![image.png](attachment:image.png)"
   ]
  },
  {
   "cell_type": "code",
   "execution_count": null,
   "id": "79eb1ec4",
   "metadata": {},
   "outputs": [],
   "source": [
    "from ibmfl.party.party import Party\n",
    "import tensorflow as tf\n",
    "\n",
    "party_config = get_party_config(party_id)\n",
    "party = Party(config_dict=party_config)\n",
    "party.start()\n",
    "party.register_party()\n",
    "party.proto_handler.is_private = False  ## allows sharing of metrics with aggregator\n",
    "party.proto_handler.connection.source_info['ip'] = '3.145.98.236'"
   ]
  },
  {
   "attachments": {},
   "cell_type": "markdown",
   "id": "22eec693",
   "metadata": {},
   "source": [
    "# Finalizando o treinamento\n",
    "\n",
    "Por fim, devemos parar nosso participante utilizando o comando **STOP**."
   ]
  },
  {
   "cell_type": "code",
   "execution_count": null,
   "id": "23c96ffd",
   "metadata": {},
   "outputs": [],
   "source": [
    "party.stop()"
   ]
  }
 ],
 "metadata": {
  "kernelspec": {
   "display_name": "Python 3",
   "language": "python",
   "name": "python3"
  },
  "language_info": {
   "codemirror_mode": {
    "name": "ipython",
    "version": 3
   },
   "file_extension": ".py",
   "mimetype": "text/x-python",
   "name": "python",
   "nbconvert_exporter": "python",
   "pygments_lexer": "ipython3",
   "version": "3.10.10"
  },
  "vscode": {
   "interpreter": {
    "hash": "d3e0db3ce89d82983b5080acdfd8cd4ad67efab840933fc3a3cbd7db5e3bd470"
   }
  }
 },
 "nbformat": 4,
 "nbformat_minor": 5
}
