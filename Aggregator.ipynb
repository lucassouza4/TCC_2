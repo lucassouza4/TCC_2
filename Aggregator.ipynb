{
 "cells": [
  {
   "cell_type": "code",
   "execution_count": null,
   "id": "59d42435",
   "metadata": {},
   "outputs": [],
   "source": [
    "num_parties = 1  ## number of participating parties\n",
    "dataset = 'pneumoniamnist.npz'\n",
    "handlerName = 'PneumoniaMedmnistDataHandler'\n",
    "handler ='pneumoniaHandler.py'"
   ]
  },
  {
   "attachments": {},
   "cell_type": "markdown",
   "id": "0c21c5d6",
   "metadata": {},
   "source": [
    "# Definição do modelo\n",
    "\n",
    "Na célula a seguir deve-se especificar as configurações do modelo para a base de dados que se deseja trabalhar. Ao executar tal célula, o modelo será gerado, compilado e salvo para uso futuro.\n",
    "\n",
    "Com a ferramenta da **IBM** é possível gerar modelos para as principais ferramentas do mercado. Como por exemplo, **Keras**, **Pytorch**, **Sklearn** e **TensorFlow**.\n",
    "\n",
    "**OBS:.** O exemplo a seguir consiste no modelo para treinamento do **Mnist** com **Keras**."
   ]
  },
  {
   "cell_type": "code",
   "execution_count": null,
   "id": "92927106",
   "metadata": {},
   "outputs": [],
   "source": [
    "import os\n",
    "\n",
    "import keras\n",
    "from keras import backend as K\n",
    "from keras.layers import Conv2D, MaxPooling2D\n",
    "from keras.layers import Dense, Dropout, Flatten\n",
    "from keras.models import Sequential\n",
    "def save_model_config(folder_configs):\n",
    "    num_classes = 10\n",
    "    img_rows, img_cols = 28, 28\n",
    "    if K.image_data_format() == 'channels_first':\n",
    "        input_shape = (1, img_rows, img_cols)\n",
    "    else:\n",
    "        input_shape = (img_rows, img_cols, 1)\n",
    "\n",
    "    model = Sequential()\n",
    "    model.add(Conv2D(32, kernel_size=(3, 3),\n",
    "                     activation='relu',\n",
    "                     input_shape=input_shape))\n",
    "    model.add(Conv2D(64, (3, 3), activation='relu'))\n",
    "    model.add(MaxPooling2D(pool_size=(2, 2)))\n",
    "    model.add(Dropout(0.25))\n",
    "    model.add(Flatten())\n",
    "    model.add(Dense(128, activation='relu'))\n",
    "    model.add(Dropout(0.5))\n",
    "    model.add(Dense(num_classes, activation='softmax'))\n",
    "\n",
    "    model.compile(loss=keras.losses.categorical_crossentropy,\n",
    "                  optimizer=keras.optimizers.Adadelta(),\n",
    "                  metrics=['accuracy'])\n",
    "\n",
    "    if not os.path.exists(folder_configs):\n",
    "        os.makedirs(folder_configs)\n",
    "\n",
    "    # Save model\n",
    "    fname = os.path.join(folder_configs, 'compiled_keras.h5')\n",
    "    model.save(fname)\n",
    "    print(fname)\n",
    "\n",
    "    K.clear_session()\n",
    "    # Generate model spec:\n",
    "    spec = {\n",
    "        'model_name': 'keras-cnn',\n",
    "        'model_definition': fname\n",
    "    }\n",
    "\n",
    "    model = {\n",
    "        'name': 'KerasFLModel',\n",
    "        'path': 'ibmfl.model.keras_fl_model',\n",
    "        'spec': spec\n",
    "    }\n",
    "\n",
    "    return model\n",
    "save_model_config('examples/configs/keras_classifier')"
   ]
  },
  {
   "attachments": {},
   "cell_type": "markdown",
   "id": "3fe7352c",
   "metadata": {},
   "source": [
    "# Definição do aggregator\n",
    "\n",
    "O agregador carrega consigo as informações de conexão referentes a máquina de execução. Além disso, seu arquivo de configuração possui informações sobre o algoritmo de **fusão**, **hiper parâmetros do treinamento** e o **protocolo**.\n",
    "\n",
    "* **Connection:** Possui informações como **IP** e **porta** da máquina agregadora além do tipo da conexão, que no exemplo a seguir foi utilizado **Flask**.\n",
    "\n",
    "* **Data:** Possui informações sobre os dados a serem trabalhados, como por exemplo, o caminho do arquivo **.npz** da base de dados e o **Handler** específico para a leitura dessas informações.\n",
    "\n",
    "* **Fusion:** Este campo especifica quais dos métodos de fusão será utilizado. Pox exemplo, **Iterative Average**, **FedAvg**, **Gradient Average**, entre outros.\n",
    "\n",
    "* **Hiper parâmetros:** Existem dois tipos de Hiper parâmetros. Globais e locais, no global é definido o tempo máximo de conexão, a quantidade de participantes do treinamento, quorum mínimo de participantes para que um treinamento se inicie, quantidade de épocas globais e acurácia nínima para  que o treinamento seja interrompido. Já os hiper parâmetros locais definem a quantidade de épocas locais e o valor do otimizador."
   ]
  },
  {
   "cell_type": "code",
   "execution_count": null,
   "id": "6e5a6c32",
   "metadata": {},
   "outputs": [],
   "source": [
    "agg_config = {\n",
    "    'connection': {\n",
    "        'info': {\n",
    "            'ip': '127.0.0.1',\n",
    "            'port': 5000,\n",
    "            'tls_config': {\n",
    "                'enable': 'false'\n",
    "            }\n",
    "        },\n",
    "        'name': 'FlaskConnection',\n",
    "        'path': 'ibmfl.connection.flask_connection',\n",
    "        'sync': 'False'\n",
    "    },\n",
    "    'data': {\n",
    "        'info': {\n",
    "            'npz_file': str(dataset)\n",
    "        },\n",
    "        'name': handlerName,\n",
    "        'path': handler\n",
    "    },\n",
    "    'fusion': {\n",
    "        'name': 'IterAvgFusionHandler',\n",
    "        'path': 'ibmfl.aggregator.fusion.iter_avg_fusion_handler'\n",
    "    },\n",
    "    'hyperparams': {\n",
    "        'global': {\n",
    "            'max_timeout': 60,\n",
    "            'num_parties': num_parties,\n",
    "            'perc_quorum': 1,\n",
    "            'rounds': 3,\n",
    "            'termination_accuracy': 0.9\n",
    "        },\n",
    "        'local': {\n",
    "            'optimizer': {\n",
    "                'lr': 0.01\n",
    "            },\n",
    "            'training': {\n",
    "                'epochs': 3\n",
    "            }\n",
    "        }\n",
    "    },\n",
    "    'protocol_handler': {\n",
    "        'name': 'ProtoHandler',\n",
    "        'path': 'ibmfl.aggregator.protohandler.proto_handler'\n",
    "    }\n",
    "}"
   ]
  },
  {
   "attachments": {
    "image.png": {
     "image/png": "[encoded data removed]"
    }
   },
   "cell_type": "markdown",
   "id": "0b8d6f04",
   "metadata": {},
   "source": [
    "# Iniciando o Aggregator\n",
    "\n",
    "Para iniciar um novo agregador é preciso instânciar um **Aggregator** passando as configurações geradas acima. Existem alguns comandos pré-configurados na própria biblioteca para realização do treinamento:\n",
    "\n",
    "![image.png](attachment:image.png)"
   ]
  },
  {
   "cell_type": "code",
   "execution_count": null,
   "id": "b5d7caae",
   "metadata": {},
   "outputs": [],
   "source": [
    "from ibmfl.aggregator.aggregator import Aggregator\n",
    "aggregator = Aggregator(config_dict=agg_config)\n",
    "\n",
    "aggregator.start()"
   ]
  },
  {
   "attachments": {},
   "cell_type": "markdown",
   "id": "83bd3c46",
   "metadata": {},
   "source": [
    "# Iniciando treinamento\n",
    "\n",
    "Para a realização do treinamento devemos a princípio inicializar as métricas de quantidade de participantes, acurácia e iterações. Em seguida, definimos métricas para a coleta de informações e por fim, após a conexão dos participantes se estabelecerem, iniciamos o treinamento. "
   ]
  },
  {
   "cell_type": "code",
   "execution_count": null,
   "id": "156decaa",
   "metadata": {},
   "outputs": [],
   "source": [
    "\"\"\"\n",
    "#1 Initialize the metrics collector variables\n",
    "\"\"\"\n",
    "num_parties = agg_config['hyperparams']['global']['num_parties']\n",
    "eval_party_accuracy = [[] for _ in range(num_parties)]\n",
    "iterations = [[] for _ in range(num_parties)]\n",
    "\n",
    "\"\"\"\n",
    "#2 Register handler for metrics collector\n",
    "\"\"\"\n",
    "def get_metrics(metrics):\n",
    "    keys = list(metrics['party'].keys())\n",
    "    keys.sort()\n",
    "    for i in range(len(keys)):\n",
    "      eval_party_accuracy[i].append(metrics['party'][keys[i]]['acc'])\n",
    "      iterations[i].append(metrics['fusion']['curr_round']*agg_config['hyperparams']['local']['training']['epochs'])\n",
    "      \n",
    "mh = aggregator.fusion.metrics_manager\n",
    "mh.register(get_metrics)\n",
    "\n",
    "\n",
    "\"\"\"\n",
    "#3 start the training\n",
    "\"\"\"\n",
    "for x in range(2):\n",
    "    aggregator.start_training()"
   ]
  },
  {
   "attachments": {},
   "cell_type": "markdown",
   "id": "fef02747",
   "metadata": {},
   "source": [
    "# Finalizando o treinamento\n",
    "\n",
    "Por fim, devemos parar nosso agregador utilizando o comando **STOP**."
   ]
  },
  {
   "cell_type": "code",
   "execution_count": null,
   "id": "06717987",
   "metadata": {},
   "outputs": [],
   "source": [
    "aggregator.stop()"
   ]
  }
 ],
 "metadata": {
  "kernelspec": {
   "display_name": "Python 3",
   "language": "python",
   "name": "python3"
  },
  "language_info": {
   "codemirror_mode": {
    "name": "ipython",
    "version": 3
   },
   "file_extension": ".py",
   "mimetype": "text/x-python",
   "name": "python",
   "nbconvert_exporter": "python",
   "pygments_lexer": "ipython3",
   "version": "3.10.10"
  },
  "vscode": {
   "interpreter": {
    "hash": "d3e0db3ce89d82983b5080acdfd8cd4ad67efab840933fc3a3cbd7db5e3bd470"
   }
  }
 },
 "nbformat": 4,
 "nbformat_minor": 5
}
