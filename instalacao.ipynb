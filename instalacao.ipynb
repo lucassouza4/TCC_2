{
 "cells": [
  {
   "attachments": {},
   "cell_type": "markdown",
   "metadata": {},
   "source": [
    "# Configurando ambiente para execução do aprendizado federado\n",
    "\n",
    "Para realizar os treinamentos federados utilizaremos a ferramenta [**Anaconda**](https://docs.anaconda.com/anaconda/install/index.html), após a instalação da ferramenta, é necessário criar um ambiente virtual para a instalação da ferramenta da **IBM**:\n",
    "\n",
    "- <code> conda create -n <env_name> python=3.6 tensorflow=1.15\n",
    "- <code> conda activate <env_name>\n",
    "\n",
    "Foi criado um repositório com todos os arquivos necessários para a execução desse tutorial. Para clona-lo é preciso executar o seguinte comando no terminal.\n",
    "\n",
    "- <code> git clone https://github.com/lucassouza4/TCC_2.git"
   ]
  },
  {
   "attachments": {},
   "cell_type": "markdown",
   "metadata": {},
   "source": [
    "### Instalação da ferramenta dentro do ambiente virtual\n",
    "\n",
    "Depois de criado e ativado, no intuito de evitar conflitos de dependência, recomenda-se a instalação das versões espcificadas abaixo para os pacote **cmake**, **opencv-python** e **dm-tree**. Após a instalação desses pacotes, é preciso instalar as dependências especificadas no arquivo **requirements.txt**. Por fim, é preciso installar a biblioteca de aprendizado federado da IBM.\n",
    "\n",
    "- <code> pip3 install cmake==3.25.0\n",
    "- <code> pip3 install opencv-python==4.5.3.56\n",
    "- <code> pip3 install dm-tree==0.1.8\n",
    "- <code> pip3 --no-cache-dir install -r requirements.txt\n",
    "- <code> pip3 install federated-learning-lib/federated_learning_lib-*-py3-none-any.whl"
   ]
  },
  {
   "attachments": {},
   "cell_type": "markdown",
   "metadata": {},
   "source": [
    "De volta ao terminal, após a instalação caso esteja utilizando uma VM, é preciso configurar o jupyter notebook para que seja possível acessa-lo pelo navegador da máquina em que o SSH está sendo feito.\n",
    "\n",
    "- <code> jupyter notebook --generate-config\n",
    "- <code> nano ~/.jupyter/jupyter_notebook_config.py\n",
    "- <code> c.NotebookApp.ip = '*'\n",
    "- <code> c.NotebookApp.open_browser = False\n",
    "- <code> c.NotebookApp.port = 8888\n",
    "\n",
    "Além da configuração do jupyter notebook é preciso abrir a porta `8888` e `5000` na própria VM (nesse tutorial foi utilizado **Oracle Coud**).\n",
    "\n",
    "- <code> sudo firewall-cmd --zone=public --permanent --add-port=8888/tcp\n",
    "- <code> sudo firewall-cmd --zone=public --permanent --add-port=5000/tcp\n",
    "- <code> sudo firewall-cmd --reload"
   ]
  }
 ],
 "metadata": {
  "language_info": {
   "name": "python"
  },
  "orig_nbformat": 4
 },
 "nbformat": 4,
 "nbformat_minor": 2
}
